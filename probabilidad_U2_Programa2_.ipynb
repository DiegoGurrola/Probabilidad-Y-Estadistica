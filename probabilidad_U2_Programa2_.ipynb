{
  "nbformat": 4,
  "nbformat_minor": 0,
  "metadata": {
    "colab": {
      "provenance": [],
      "authorship_tag": "ABX9TyOCuCOq6X44k4j4DnHrNC7Y",
      "include_colab_link": true
    },
    "kernelspec": {
      "name": "python3",
      "display_name": "Python 3"
    },
    "language_info": {
      "name": "python"
    }
  },
  "cells": [
    {
      "cell_type": "markdown",
      "metadata": {
        "id": "view-in-github",
        "colab_type": "text"
      },
      "source": [
        "<a href=\"https://colab.research.google.com/github/DiegoGurrola/Probabilidad-Y-Estadistica/blob/main/probabilidad_U2_Programa2_.ipynb\" target=\"_parent\"><img src=\"https://colab.research.google.com/assets/colab-badge.svg\" alt=\"Open In Colab\"/></a>"
      ]
    },
    {
      "cell_type": "markdown",
      "source": [
        "**Probabilidad y estadistica**\n",
        "\n",
        "**Grupo 3 Y**\n",
        "\n",
        "**Unidad 2**\n",
        "\n",
        "Docente: Dr. Jose Gabriel Rodriguez Rivas\n",
        "\n",
        "Alumno: Diego Francisco Gurrola Terrones\n",
        "\n",
        "**Practica 2: probabilidad_U2_Programa2**"
      ],
      "metadata": {
        "id": "GBcUYSdDeaMl"
      }
    },
    {
      "cell_type": "code",
      "execution_count": 3,
      "metadata": {
        "colab": {
          "base_uri": "https://localhost:8080/"
        },
        "id": "1JqJPw0QZDMi",
        "outputId": "0ce24674-eb50-475e-b999-94d7446b1e35"
      },
      "outputs": [
        {
          "output_type": "stream",
          "name": "stdout",
          "text": [
            "===== PROGRAMA DE PERMUTACIONES =====\n",
            "Ingresa los elementos separados por comas: 'A', 'B', 'C', 'D'\n",
            "\n",
            "Total de elementos: 4\n",
            "Elementos ingresados: [\"'A'\", \" 'B'\", \" 'C'\", \" 'D'\"]\n",
            "\n",
            "Permutaciones totales (de todos los elementos): 24\n",
            "\n",
            "¿Cuántos elementos quieres ordenar? (r): 2\n",
            "Permutaciones de 4 elementos tomados de 2 en 2: 12\n"
          ]
        }
      ],
      "source": [
        "from math import factorial\n",
        "\n",
        "def permutaciones(n, r):\n",
        "    return factorial(n) // factorial(n - r)\n",
        "\n",
        "print(\"===== PROGRAMA DE PERMUTACIONES =====\")\n",
        "elementos = input(\"Ingresa los elementos separados por comas: \").split(\",\")\n",
        "n = len(elementos)\n",
        "\n",
        "print(f\"\\nTotal de elementos: {n}\")\n",
        "print(\"Elementos ingresados:\", elementos)\n",
        "\n",
        "total_permutaciones = factorial(n)\n",
        "print(f\"\\nPermutaciones totales (de todos los elementos): {total_permutaciones}\")\n",
        "\n",
        "r = int(input(\"\\n¿Cuántos elementos quieres ordenar? (r): \"))\n",
        "if r > n or r <= 0:\n",
        "    print(\"Valor de r no válido. Debe ser mayor a 0 y menor o igual a n.\")\n",
        "else:\n",
        "    perm_parciales = permutaciones(n, r)\n",
        "    print(f\"Permutaciones de {n} elementos tomados de {r} en {r}: {perm_parciales}\")\n"
      ]
    }
  ]
}