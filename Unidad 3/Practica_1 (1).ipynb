{
  "nbformat": 4,
  "nbformat_minor": 0,
  "metadata": {
    "colab": {
      "provenance": []
    },
    "kernelspec": {
      "name": "python3",
      "display_name": "Python 3"
    },
    "language_info": {
      "name": "python"
    }
  },
  "cells": [
    {
      "cell_type": "markdown",
      "source": [
        "**Probabilidad y estadistica**\n",
        "\n",
        "**Grupo 3 Y**\n",
        "\n",
        "**Unidad 2**\n",
        "\n",
        "Docente: Dr. Jose Gabriel Rodriguez Rivas\n",
        "\n",
        "Alumno: Diego Francisco Gurrola Terrones\n",
        "\n",
        "**Practica 1: probabilidad_U3_Programa1**"
      ],
      "metadata": {
        "id": "IZ4kIZmkijbc"
      }
    },
    {
      "cell_type": "code",
      "execution_count": null,
      "metadata": {
        "colab": {
          "base_uri": "https://localhost:8080/"
        },
        "id": "toSHj2uJKdhw",
        "outputId": "77c5c0bb-ed2a-4773-e9ce-f33ea9a1bb57"
      },
      "outputs": [
        {
          "output_type": "stream",
          "name": "stdout",
          "text": [
            "x = 5, p = 0.05, x*p = 0.25\n",
            "x = 6, p = 0.1, x*p = 0.60\n",
            "x = 7, p = 0.2, x*p = 1.40\n",
            "x = 8, p = 0.3, x*p = 2.40\n",
            "x = 9, p = 0.25, x*p = 2.25\n",
            "x = 10, p = 0.1, x*p = 1.00\n",
            "\n",
            "Valor esperado (Esperanza): 7.90\n"
          ]
        }
      ],
      "source": [
        "x = [5, 6, 7, 8, 9, 10] # Valores posibles de la variable aleatoria\n",
        "p = [0.05, 0.10, 0.20, 0.30, 0.25, 0.10] # Probabilidades correspondientes\n",
        "# Inicializar una variable para acumular la suma\n",
        "valor_esperado = 0\n",
        "# Recorrer los valores y sus probabilidades\n",
        "for i in range(len(x)):\n",
        "  xi = x[i] # valor de la variable aleatoria\n",
        "  pi = p[i] # probabilidad de ese valor\n",
        "  producto = xi * pi # multiplicar valor por su probabilidad\n",
        "  valor_esperado += producto # sumar al acumulador\n",
        "  # Mostrar cada paso\n",
        "  print(f\"x = {xi}, p = {pi}, x*p = {producto:.2f}\")\n",
        "# Mostrar resultado final\n",
        "print(f\"\\nValor esperado (Esperanza): {valor_esperado:.2f}\")"
      ]
    }
  ]
}