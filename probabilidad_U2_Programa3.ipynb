{
  "nbformat": 4,
  "nbformat_minor": 0,
  "metadata": {
    "colab": {
      "provenance": [],
      "authorship_tag": "ABX9TyMGi4tFJuth0kA5uPWczGj9",
      "include_colab_link": true
    },
    "kernelspec": {
      "name": "python3",
      "display_name": "Python 3"
    },
    "language_info": {
      "name": "python"
    }
  },
  "cells": [
    {
      "cell_type": "markdown",
      "metadata": {
        "id": "view-in-github",
        "colab_type": "text"
      },
      "source": [
        "<a href=\"https://colab.research.google.com/github/DiegoGurrola/Probabilidad-Y-Estadistica/blob/main/probabilidad_U2_Programa3.ipynb\" target=\"_parent\"><img src=\"https://colab.research.google.com/assets/colab-badge.svg\" alt=\"Open In Colab\"/></a>"
      ]
    },
    {
      "cell_type": "markdown",
      "source": [
        "**Probabilidad y estadistica**\n",
        "\n",
        "**Grupo 3 Y**\n",
        "\n",
        "**Unidad 2**\n",
        "\n",
        "Docente: Dr. Jose Gabriel Rodriguez Rivas\n",
        "\n",
        "Alumno: Diego Francisco Gurrola Terrones\n",
        "\n",
        "**Practica 3: probabilidad_U2_Programa3**"
      ],
      "metadata": {
        "id": "0sKWHW3FXaRR"
      }
    },
    {
      "cell_type": "code",
      "execution_count": 1,
      "metadata": {
        "colab": {
          "base_uri": "https://localhost:8080/"
        },
        "id": "mT3Eew9fW-qb",
        "outputId": "ead34aa2-7729-48c2-e644-e75fa642e93d"
      },
      "outputs": [
        {
          "output_type": "stream",
          "name": "stdout",
          "text": [
            "Número total de asistentes: 10\n",
            "Número de preguntas : 4\n",
            "Total de formas de asignar asistentes: 5040\n"
          ]
        }
      ],
      "source": [
        "import math\n",
        "n = 10\n",
        "r = 4\n",
        "permutaciones = math.factorial(n) // math.factorial(n - r)\n",
        "print(\"Número total de asistentes:\", n)\n",
        "print(\"Número de preguntas :\", r)\n",
        "print(\"Total de formas de asignar asistentes:\", permutaciones)"
      ]
    }
  ]
}